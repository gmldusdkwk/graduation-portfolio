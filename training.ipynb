{
 "cells": [
  {
   "cell_type": "code",
   "execution_count": 1,
   "metadata": {},
   "outputs": [
    {
     "name": "stderr",
     "output_type": "stream",
     "text": [
      "Using TensorFlow backend.\n",
      "/anaconda3/lib/python3.6/importlib/_bootstrap.py:219: RuntimeWarning: compiletime version 3.5 of module 'tensorflow.python.framework.fast_tensor_util' does not match runtime version 3.6\n",
      "  return f(*args, **kwds)\n"
     ]
    }
   ],
   "source": [
    "from keras.layers import *\n",
    "from keras.layers.wrappers import TimeDistributed\n",
    "from keras.layers.merge import Add\n",
    "from keras.layers.normalization import BatchNormalization\n",
    "from keras.models import Model\n",
    "from keras import backend as K\n",
    "from keras.utils import plot_model\n",
    "\n",
    "#%%\n",
    "class ResNet():\n",
    "    \n",
    "    def __init__(self,\n",
    "                 filters_list=[],\n",
    "                 input_size=None,\n",
    "                 output_size=None,\n",
    "                 initializer='glorot_uniform'):\n",
    "        self.filters_list = filters_list\n",
    "        self.input_size = input_size\n",
    "        self.output_size = output_size\n",
    "        self.initializer = initializer\n",
    "        self.m = None\n",
    "\n",
    "    def _block(self, filters, inp):\n",
    "        \n",
    "        layer_1 = BatchNormalization()(inp)\n",
    "        act_1 = Activation('relu')(layer_1)\n",
    "        conv_1 = Conv2D(filters, (3,3),\n",
    "                        padding = 'same',\n",
    "                        kernel_initializer = self.initializer)(act_1)\n",
    "        layer_2 = BatchNormalization()(conv_1)\n",
    "        act_2 = Activation('relu')(layer_2)\n",
    "        conv_2 = Conv2D(filters, (3,3),\n",
    "                        padding = 'same',\n",
    "                        kernel_initializer = self.initializer)(act_2)\n",
    "        return(conv_2)\n",
    "\n",
    "    def build(self):\n",
    "        \n",
    "        i = Input(shape = self.input_size, name = 'input')\n",
    "        x = Conv2D(self.filters_list[0], (3,3),\n",
    "                   padding = 'same',\n",
    "                   kernel_initializer = self.initializer)(i)\n",
    "        x = MaxPooling2D(padding = 'same')(x)\n",
    "        x = Add()([self._block(self.filters_list[0], x),x])\n",
    "        x = Add()([self._block(self.filters_list[0], x),x])\n",
    "        x = Add()([self._block(self.filters_list[0], x),x])\n",
    "        if len(self.filters_list) > 1:\n",
    "            for filt in self.filters_list[1:]:\n",
    "                x = Conv2D(filt, (3,3),\n",
    "                           strides = (2,2),\n",
    "                           padding = 'same',\n",
    "                           activation = 'relu',\n",
    "                           kernel_initializer = self.initializer)(x)\n",
    "                x = Add()([self._block(filt, x),x])\n",
    "                x = Add()([self._block(filt, x),x])\n",
    "                x = Add()([self._block(filt, x),x])\n",
    "        x = GlobalAveragePooling2D()(x)\n",
    "        x = Dense(self.output_size, activation = 'softmax')(x)\n",
    "\n",
    "        self.m = Model(i,x)\n",
    "        return self.m"
   ]
  },
  {
   "cell_type": "code",
   "execution_count": 4,
   "metadata": {},
   "outputs": [],
   "source": [
    "import numpy as np\n",
    "from keras.callbacks import ModelCheckpoint, TensorBoard, EarlyStopping\n",
    "from time import time\n",
    "from collections import Counter\n",
    "import matplotlib.pyplot as plt\n",
    "import os\n",
    "%matplotlib inline\n",
    "from sklearn.metrics import classification_report, confusion_matrix"
   ]
  },
  {
   "cell_type": "code",
   "execution_count": 5,
   "metadata": {},
   "outputs": [],
   "source": [
    "X_train = np.load('./data/X_train.npy')\n",
    "Y_train = np.load('./data/Y_train.npy')\n",
    "X_val = np.load('./data/X_val.npy')\n",
    "Y_val = np.load('./data/Y_val.npy')"
   ]
  },
  {
   "cell_type": "code",
   "execution_count": 6,
   "metadata": {},
   "outputs": [
    {
     "data": {
      "text/plain": [
       "(63769, 122, 85, 1)"
      ]
     },
     "execution_count": 6,
     "metadata": {},
     "output_type": "execute_result"
    }
   ],
   "source": [
    "X_train.shape"
   ]
  },
  {
   "cell_type": "code",
   "execution_count": 7,
   "metadata": {},
   "outputs": [
    {
     "data": {
      "text/plain": [
       "(63769,)"
      ]
     },
     "execution_count": 7,
     "metadata": {},
     "output_type": "execute_result"
    }
   ],
   "source": [
    "Y_train.shape"
   ]
  },
  {
   "cell_type": "code",
   "execution_count": 8,
   "metadata": {},
   "outputs": [
    {
     "data": {
      "text/plain": [
       "(42462, 122, 85, 1)"
      ]
     },
     "execution_count": 8,
     "metadata": {},
     "output_type": "execute_result"
    }
   ],
   "source": [
    "X_val.shape"
   ]
  },
  {
   "cell_type": "code",
   "execution_count": 9,
   "metadata": {},
   "outputs": [
    {
     "data": {
      "text/plain": [
       "(42462,)"
      ]
     },
     "execution_count": 9,
     "metadata": {},
     "output_type": "execute_result"
    }
   ],
   "source": [
    "Y_val.shape"
   ]
  },
  {
   "cell_type": "code",
   "execution_count": 10,
   "metadata": {},
   "outputs": [
    {
     "name": "stdout",
     "output_type": "stream",
     "text": [
      "['yes', 'no', 'up', 'down', 'left', 'right', 'on', 'off', 'stop', 'go', 'backward', 'forward', 'house', 'silence', 'eight', 'cat', 'tree', 'learn', 'bed', 'happy', 'dog', 'wow', 'follow', 'nine', 'three', 'sheila', 'one', 'bird', 'zero', 'seven', 'visual', 'marvin', 'two', 'six', 'five', 'four']\n"
     ]
    }
   ],
   "source": [
    "classes = ['yes', 'no', \n",
    "           'up', 'down', \n",
    "           'left', 'right', \n",
    "           'on', 'off', \n",
    "           'stop', 'go', \n",
    "           'backward', 'forward',\n",
    "           'house',\n",
    "           'silence', 'unknown']\n",
    "\n",
    "all_classes = [x for x in classes[:14]]\n",
    "for ind, cl in enumerate(os.listdir('data/train/audio/')):\n",
    "    if cl not in classes:\n",
    "        all_classes.append(cl)\n",
    "print(all_classes)"
   ]
  },
  {
   "cell_type": "code",
   "execution_count": 11,
   "metadata": {},
   "outputs": [],
   "source": [
    "def get_class_weights(y):\n",
    "    counter = Counter(y)\n",
    "    majority = max(counter.values())\n",
    "    return  {cls: float(majority/count) for cls, count in counter.items()}  \n",
    "\n",
    "class_weights = get_class_weights(Y_train) "
   ]
  },
  {
   "cell_type": "code",
   "execution_count": 12,
   "metadata": {},
   "outputs": [
    {
     "data": {
      "text/plain": [
       "{5: 16.396825396825395,\n",
       " 14: 1.0,\n",
       " 10: 37.22522522522522,\n",
       " 9: 15.967367969085444,\n",
       " 13: 153.6694214876033,\n",
       " 1: 15.72431289640592,\n",
       " 4: 16.30337571240684,\n",
       " 8: 16.001721170395868,\n",
       " 2: 16.638926174496643,\n",
       " 12: 29.30496453900709,\n",
       " 3: 15.817949808592088,\n",
       " 0: 15.322620519159456,\n",
       " 6: 16.11265164644714,\n",
       " 11: 39.77326203208556,\n",
       " 7: 16.54270462633452}"
      ]
     },
     "execution_count": 12,
     "metadata": {},
     "output_type": "execute_result"
    }
   ],
   "source": [
    "class_weights"
   ]
  },
  {
   "cell_type": "code",
   "execution_count": 13,
   "metadata": {},
   "outputs": [],
   "source": [
    "input_size = X_train.shape[1:]\n",
    "batch_size = 196"
   ]
  },
  {
   "cell_type": "code",
   "execution_count": 14,
   "metadata": {},
   "outputs": [],
   "source": [
    "filters_list = [8,16,32]\n",
    "output_size = 15"
   ]
  },
  {
   "cell_type": "code",
   "execution_count": 15,
   "metadata": {},
   "outputs": [],
   "source": [
    "#adjust these strings for organizeing the saved files\n",
    "date = '1003'\n",
    "arch = 'resnet8_16_32'"
   ]
  },
  {
   "cell_type": "code",
   "execution_count": 16,
   "metadata": {},
   "outputs": [],
   "source": [
    "sr = ResNet(filters_list, input_size, output_size)\n",
    "sr.build()\n",
    "sr.m.compile(loss='categorical_crossentropy', \n",
    "             optimizer='adadelta', \n",
    "             metrics=['accuracy'])"
   ]
  },
  {
   "cell_type": "code",
   "execution_count": 17,
   "metadata": {},
   "outputs": [],
   "source": [
    "# to save a png of the model you need pydot and graphviz installed\n",
    "plot_model(sr.m, \n",
    "           to_file = './models/{}_{}.png'.format(arch,date), \n",
    "           show_shapes = True)"
   ]
  },
  {
   "cell_type": "code",
   "execution_count": 18,
   "metadata": {},
   "outputs": [],
   "source": [
    "#callbacks, remember to make folders to store files \n",
    "checkpointer = ModelCheckpoint(filepath='./models/{}_{}_best.h5'.format(arch, date),\n",
    "                               verbose=0,\n",
    "                               save_best_only=True)\n",
    "   \n",
    "earlystopping = EarlyStopping()\n",
    "\n",
    "tensorboard = TensorBoard(log_dir = './logs/{}_{}'.format(date, time()), \n",
    "                          histogram_freq = 0, \n",
    "                          write_graph = True, \n",
    "                          write_images = True)"
   ]
  },
  {
   "cell_type": "code",
   "execution_count": 19,
   "metadata": {},
   "outputs": [],
   "source": [
    "from keras.utils import to_categorical"
   ]
  },
  {
   "cell_type": "code",
   "execution_count": 20,
   "metadata": {},
   "outputs": [
    {
     "name": "stdout",
     "output_type": "stream",
     "text": [
      "Train on 63769 samples, validate on 42462 samples\n",
      "Epoch 1/5\n",
      "63769/63769 [==============================] - 1298s 20ms/step - loss: 11.1313 - acc: 0.3967 - val_loss: 2.4426 - val_acc: 0.4045\n",
      "Epoch 2/5\n",
      "63769/63769 [==============================] - 1261s 20ms/step - loss: 4.0153 - acc: 0.6984 - val_loss: 1.0617 - val_acc: 0.6484\n",
      "Epoch 3/5\n",
      "63769/63769 [==============================] - 1240s 19ms/step - loss: 2.9159 - acc: 0.7756 - val_loss: 1.8725 - val_acc: 0.5023\n",
      "Epoch 4/5\n",
      "63769/63769 [==============================] - 1227s 19ms/step - loss: 2.4234 - acc: 0.8123 - val_loss: 0.7007 - val_acc: 0.7656\n",
      "Epoch 5/5\n",
      "63769/63769 [==============================] - 1226s 19ms/step - loss: 2.0129 - acc: 0.8423 - val_loss: 0.4797 - val_acc: 0.8570\n"
     ]
    }
   ],
   "source": [
    "history = sr.m.fit(X_train, \n",
    "                   to_categorical(Y_train), \n",
    "                   batch_size = batch_size, \n",
    "                   epochs = 5, \n",
    "                   verbose = 1, shuffle = True, \n",
    "                   class_weight = class_weights,\n",
    "                   validation_data = (X_val, to_categorical(Y_val)), \n",
    "                   callbacks = [checkpointer]) # add more callbacks if you want"
   ]
  },
  {
   "cell_type": "code",
   "execution_count": 21,
   "metadata": {},
   "outputs": [],
   "source": [
    "sr.m.save_weights(\"./models/{}_{}_last.h5\".format(arch, date))"
   ]
  },
  {
   "cell_type": "code",
   "execution_count": 22,
   "metadata": {},
   "outputs": [],
   "source": [
    "from keras.models import load_model\n",
    "\n",
    "sr.m.save('./models/ResNet.h5')  # creates a HDF5 file 'my_model.h5'\n",
    "\n",
    "# returns a compiled model\n",
    "# identical to the previous one\n",
    "modelResNet = load_model('./models/ResNet.h5')"
   ]
  },
  {
   "cell_type": "code",
   "execution_count": 23,
   "metadata": {},
   "outputs": [
    {
     "data": {
      "text/plain": [
       "(122, 85, 1)"
      ]
     },
     "execution_count": 23,
     "metadata": {},
     "output_type": "execute_result"
    }
   ],
   "source": [
    "X_val[0].shape"
   ]
  },
  {
   "cell_type": "markdown",
   "metadata": {},
   "source": [
    "plot the training graphs, and save them"
   ]
  },
  {
   "cell_type": "code",
   "execution_count": 26,
   "metadata": {},
   "outputs": [
    {
     "name": "stdout",
     "output_type": "stream",
     "text": [
      "dict_keys(['val_loss', 'val_acc', 'loss', 'acc'])\n"
     ]
    },
    {
     "data": {
      "image/png": "[encoded data removed]",
      "text/plain": [
       "<Figure size 432x288 with 1 Axes>"
      ]
     },
     "metadata": {},
     "output_type": "display_data"
    },
    {
     "data": {
      "image/png": "[encoded data removed]",
      "text/plain": [
       "<Figure size 432x288 with 1 Axes>"
      ]
     },
     "metadata": {},
     "output_type": "display_data"
    }
   ],
   "source": [
    "#%% visualize training\n",
    "print(history.history.keys())\n",
    "# summarize history for accuracy\n",
    "plt.plot(history.history['acc'])\n",
    "plt.plot(history.history['val_acc'])\n",
    "plt.title('model accuracy')\n",
    "plt.ylabel('accuracy')\n",
    "plt.xlabel('epoch')\n",
    "plt.legend(['train', 'test'], loc='upper left')\n",
    "plt.savefig('graphs/{}_{}_acc.png'.format(arch, date),bbox_inches='tight')\n",
    "plt.show()\n",
    "# summarize history for loss\n",
    "plt.plot(history.history['loss'])\n",
    "plt.plot(history.history['val_loss'])\n",
    "plt.title('model loss')\n",
    "plt.ylabel('loss')\n",
    "plt.xlabel('epoch')\n",
    "plt.legend(['train', 'test'], loc='upper left')\n",
    "plt.savefig('graphs/{}_{}_loss.png'.format(arch, date), bbox_inches='tight')\n",
    "plt.show()"
   ]
  },
  {
   "cell_type": "markdown",
   "metadata": {},
   "source": [
    "predict the validation classification and score"
   ]
  },
  {
   "cell_type": "code",
   "execution_count": 27,
   "metadata": {},
   "outputs": [
    {
     "name": "stdout",
     "output_type": "stream",
     "text": [
      "42462/42462 [==============================] - 301s 7ms/step\n"
     ]
    }
   ],
   "source": [
    "val_pred = sr.m.predict(X_val, batch_size = batch_size, verbose = 1)"
   ]
  },
  {
   "cell_type": "code",
   "execution_count": 28,
   "metadata": {},
   "outputs": [
    {
     "data": {
      "text/plain": [
       "(42462, 15)"
      ]
     },
     "execution_count": 28,
     "metadata": {},
     "output_type": "execute_result"
    }
   ],
   "source": [
    "val_pred.shape"
   ]
  },
  {
   "cell_type": "code",
   "execution_count": 29,
   "metadata": {},
   "outputs": [
    {
     "name": "stdout",
     "output_type": "stream",
     "text": [
      "             precision    recall  f1-score   support\n",
      "\n",
      "        yes      0.798     0.962     0.873      1617\n",
      "         no      0.828     0.861     0.844      1576\n",
      "         up      0.986     0.515     0.676      1488\n",
      "       down      0.954     0.560     0.706      1566\n",
      "       left      0.858     0.861     0.859      1520\n",
      "      right      0.903     0.856     0.879      1510\n",
      "         on      0.906     0.774     0.835      1537\n",
      "        off      0.952     0.664     0.782      1497\n",
      "       stop      0.989     0.467     0.634      1548\n",
      "         go      0.725     0.765     0.745      1551\n",
      "   backward      0.843     0.526     0.648       665\n",
      "    forward      0.546     0.756     0.634       622\n",
      "      house      0.979     0.732     0.838       844\n",
      "    silence      0.668     0.981     0.795       160\n",
      "    unknown      0.861     0.951     0.904     24761\n",
      "\n",
      "avg / total      0.868     0.857     0.850     42462\n",
      "\n"
     ]
    }
   ],
   "source": [
    "print(classification_report(Y_val, np.argmax(val_pred, axis = 1), target_names = classes, digits = 3))"
   ]
  },
  {
   "cell_type": "code",
   "execution_count": 30,
   "metadata": {},
   "outputs": [
    {
     "name": "stdout",
     "output_type": "stream",
     "text": [
      "[[ 1556     0     0     0    11     0     0     0     0     0     0     0\n",
      "      0     4    46]\n",
      " [   14  1357     0     1    14     2     0     1     0    12     0     1\n",
      "      0     1   173]\n",
      " [    0     4   766     0     0     2    45    29     7    23    52    10\n",
      "      2     6   542]\n",
      " [   14    82     0   877     4     0     1     1     0    53     1     2\n",
      "      0     1   530]\n",
      " [   15     2     0     0  1309    45     0     0     0     1     1     1\n",
      "      0     0   146]\n",
      " [    2     2     0     0    13  1292     1     0     0     0     0     2\n",
      "      0     1   197]\n",
      " [    0     0     3     2     1     0  1190     8     0     7     1    27\n",
      "      2     5   291]\n",
      " [   49     3     2     0    11     1    56   994     0     5     1    14\n",
      "      2     2   357]\n",
      " [    2     0     1     5     2     0     0     0   723    41     2     2\n",
      "      0     1   769]\n",
      " [   13    91     0     1     3     0     0     0     0  1187     0    10\n",
      "      0     4   242]\n",
      " [    1     0     1     1     8     5     0     0     0     0   350    56\n",
      "      0     0   243]\n",
      " [    0     0     0     0     1     0     1     0     0     0     0   470\n",
      "      0     0   150]\n",
      " [   74     7     0     1     1     7     3     2     0     1     0     7\n",
      "    618     2   121]\n",
      " [    0     0     0     0     1     0     0     0     0     0     0     0\n",
      "      0   157     2]\n",
      " [  209    91     4    31   147    76    16     9     1   307     7   259\n",
      "      7    51 23546]]\n"
     ]
    }
   ],
   "source": [
    "print(confusion_matrix(Y_val, np.argmax(val_pred, axis = 1)))"
   ]
  },
  {
   "cell_type": "code",
   "execution_count": null,
   "metadata": {},
   "outputs": [],
   "source": []
  }
 ],
 "metadata": {
  "kernelspec": {
   "display_name": "Python 3",
   "language": "python",
   "name": "python3"
  },
  "language_info": {
   "codemirror_mode": {
    "name": "ipython",
    "version": 3
   },
   "file_extension": ".py",
   "mimetype": "text/x-python",
   "name": "python",
   "nbconvert_exporter": "python",
   "pygments_lexer": "ipython3",
   "version": "3.6.5"
  }
 },
 "nbformat": 4,
 "nbformat_minor": 2
}

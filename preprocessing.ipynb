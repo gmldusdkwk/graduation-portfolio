{
 "cells": [
  {
   "cell_type": "markdown",
   "metadata": {},
   "source": [
    "# Preprocessing\n",
    "we create silence files, pad short files and make training and validation sets"
   ]
  },
  {
   "cell_type": "code",
   "execution_count": 1,
   "metadata": {},
   "outputs": [],
   "source": [
    "import numpy as np\n",
    "import librosa\n",
    "import librosa.display\n",
    "import os\n",
    "import csv\n",
    "%matplotlib inline\n",
    "import matplotlib.pyplot as plt\n",
    "import random"
   ]
  },
  {
   "cell_type": "markdown",
   "metadata": {},
   "source": [
    "## classes\n",
    "인식하길 원하는 데이터의 종류 / 그 외의 단어는 unknown이다."
   ]
  },
  {
   "cell_type": "code",
   "execution_count": 2,
   "metadata": {},
   "outputs": [],
   "source": [
    "train_dir = './data/train/audio/' #download files from kaggle\n",
    "\n",
    "classes = ['yes', 'no', \n",
    "           'up', 'down', \n",
    "           'left', 'right', \n",
    "           'on', 'off', \n",
    "           'stop', 'go', \n",
    "           'backward', 'forward',\n",
    "           'house',\n",
    "           'silence', 'unknown']"
   ]
  },
  {
   "cell_type": "markdown",
   "metadata": {},
   "source": [
    "run this cell to move the background noises folder out of the audio directory. We will create silence samples from these files after."
   ]
  },
  {
   "cell_type": "code",
   "execution_count": 3,
   "metadata": {},
   "outputs": [
    {
     "name": "stdout",
     "output_type": "stream",
     "text": [
      "0a2b400e_nohash_4.wav\n",
      "0ac15fe9_nohash_0.wav\n",
      "LICENSE\n",
      "README.md\n",
      "_background_noise_\n",
      "audio\n",
      "command.wav\n",
      "testing_list.txt\n",
      "validation_list.rtf\n",
      "validation_list.txt\n"
     ]
    }
   ],
   "source": [
    "%%bash\n",
    "ls data/train"
   ]
  },
  {
   "cell_type": "markdown",
   "metadata": {},
   "source": [
    "Split all the audio files from _background_noise_ folder in 1-sec chunks"
   ]
  },
  {
   "cell_type": "code",
   "execution_count": 4,
   "metadata": {},
   "outputs": [],
   "source": [
    "def split_arr(arr):\n",
    "    \"\"\"\n",
    "    split an array into chunks of length 16000\n",
    "    Returns:\n",
    "        list of arrays\n",
    "    \"\"\"\n",
    "    return np.split(arr, np.arange(16000, len(arr), 16000))"
   ]
  },
  {
   "cell_type": "markdown",
   "metadata": {},
   "source": [
    "## create_silence\n",
    "백그라운드 노이스 파일을 읽는다. sampling rate를 16000으로 한다. librosa.load의 결과로 sig는 array,  rate = 16000이다. 그리고 silence가 없다면 silence 파일을 생성한다. wav file 생성. "
   ]
  },
  {
   "cell_type": "code",
   "execution_count": 5,
   "metadata": {},
   "outputs": [],
   "source": [
    "def create_silence():\n",
    "    \"\"\"\n",
    "    reads wav files in background noises folder, \n",
    "    splits them and saves to silence folder in train_dir\n",
    "    \"\"\"\n",
    "    for file in os.listdir('data/train/_background_noise_/'):\n",
    "        if 'wav' in file:\n",
    "            sig, rate = librosa.load('data/train/_background_noise_/' + file, sr = 16000)        \n",
    "            sig_arr = split_arr(sig)\n",
    "            if not os.path.exists(train_dir+'silence/'):\n",
    "                os.makedirs(train_dir+'silence/')\n",
    "            for ind, arr in enumerate(sig_arr):\n",
    "                filename = 'frag%d' %ind + '_%s' %file # example: frag0_running_tap.wav\n",
    "                librosa.output.write_wav(train_dir+'silence/'+filename, arr, 16000)"
   ]
  },
  {
   "cell_type": "code",
   "execution_count": 6,
   "metadata": {},
   "outputs": [],
   "source": [
    "create_silence()"
   ]
  },
  {
   "cell_type": "markdown",
   "metadata": {},
   "source": [
    "It is probably a good idea to make more silence samples yourself. Perhaps just by recording walking or driving around without speaking. the silence class is underrepresented.\n",
    "\n",
    "three lists with file names. one for traning set, one for validation set, one for all. Plus a directory with file counts per class."
   ]
  },
  {
   "cell_type": "markdown",
   "metadata": {},
   "source": [
    "all_classes에 모든 단어 리스트 생성"
   ]
  },
  {
   "cell_type": "code",
   "execution_count": 3,
   "metadata": {},
   "outputs": [
    {
     "name": "stdout",
     "output_type": "stream",
     "text": [
      "['yes', 'no', 'up', 'down', 'left', 'right', 'on', 'off', 'stop', 'go', 'backward', 'forward', 'house', 'silence', 'eight', 'cat', 'tree', 'learn', 'bed', 'happy', '.DS_Store', 'dog', 'wow', 'follow', 'nine', 'three', 'sheila', 'one', 'bird', 'zero', 'seven', 'visual', 'marvin', 'two', 'six', 'five', 'four']\n"
     ]
    }
   ],
   "source": [
    "folders = os.listdir(train_dir)\n",
    "# put folders in same order as in the classes list, used when making sets\n",
    "all_classes = [x for x in classes[:14]]\n",
    "for ind, cl in enumerate(folders):\n",
    "    if cl not in classes:\n",
    "        all_classes.append(cl)\n",
    "print(all_classes)"
   ]
  },
  {
   "cell_type": "code",
   "execution_count": 14,
   "metadata": {},
   "outputs": [
    {
     "data": {
      "text/plain": [
       "36"
      ]
     },
     "execution_count": 14,
     "metadata": {},
     "output_type": "execute_result"
    }
   ],
   "source": [
    "len(all_classes)"
   ]
  },
  {
   "cell_type": "code",
   "execution_count": 4,
   "metadata": {},
   "outputs": [
    {
     "data": {
      "text/plain": [
       "['yes',\n",
       " 'no',\n",
       " 'up',\n",
       " 'down',\n",
       " 'left',\n",
       " 'right',\n",
       " 'on',\n",
       " 'off',\n",
       " 'stop',\n",
       " 'go',\n",
       " 'backward',\n",
       " 'forward',\n",
       " 'house',\n",
       " 'silence',\n",
       " 'eight',\n",
       " 'cat',\n",
       " 'tree',\n",
       " 'learn',\n",
       " 'bed',\n",
       " 'happy',\n",
       " '.DS_Store',\n",
       " 'dog',\n",
       " 'wow',\n",
       " 'follow',\n",
       " 'nine',\n",
       " 'three',\n",
       " 'sheila',\n",
       " 'one',\n",
       " 'bird',\n",
       " 'zero',\n",
       " 'seven',\n",
       " 'visual',\n",
       " 'marvin',\n",
       " 'two',\n",
       " 'six',\n",
       " 'five',\n",
       " 'four']"
      ]
     },
     "execution_count": 4,
     "metadata": {},
     "output_type": "execute_result"
    }
   ],
   "source": [
    "all_classes"
   ]
  },
  {
   "cell_type": "markdown",
   "metadata": {},
   "source": [
    "validation list를 만든다. testing list"
   ]
  },
  {
   "cell_type": "code",
   "execution_count": 15,
   "metadata": {},
   "outputs": [
    {
     "name": "stdout",
     "output_type": "stream",
     "text": [
      "42462\n"
     ]
    }
   ],
   "source": [
    "with open('./data/train/validation_list.txt') as val_list:\n",
    "    validation_list = [row[0] for row in csv.reader(val_list)]\n",
    "    print(len(validation_list))\n",
    "# assert len(validation_list) == 9981, 'file not loaded'"
   ]
  },
  {
   "cell_type": "markdown",
   "metadata": {},
   "source": [
    "validation list에 silence files을 추가한다. "
   ]
  },
  {
   "cell_type": "code",
   "execution_count": 16,
   "metadata": {},
   "outputs": [],
   "source": [
    "word_list  = []\n",
    "train_dir = './data/train/'"
   ]
  },
  {
   "cell_type": "code",
   "execution_count": 17,
   "metadata": {},
   "outputs": [],
   "source": [
    "for i, file in enumerate(os.listdir(train_dir + 'audio')):\n",
    "    word_list.append(file)"
   ]
  },
  {
   "cell_type": "code",
   "execution_count": 24,
   "metadata": {},
   "outputs": [
    {
     "data": {
      "text/plain": [
       "36"
      ]
     },
     "execution_count": 24,
     "metadata": {},
     "output_type": "execute_result"
    }
   ],
   "source": [
    "len(word_list)"
   ]
  },
  {
   "cell_type": "code",
   "execution_count": 25,
   "metadata": {},
   "outputs": [],
   "source": [
    "validation_list = []\n",
    "test_list = []\n",
    "train_dir = './data/train/'\n",
    "num = 0"
   ]
  },
  {
   "cell_type": "code",
   "execution_count": 26,
   "metadata": {},
   "outputs": [],
   "source": [
    "for word in word_list:\n",
    "    for i, file in enumerate(os.listdir(train_dir + 'audio/' + word + '/')):\n",
    "        pass\n",
    "    end = int(i*0.25)\n",
    "    end2 = end + int(i*0.3)\n",
    "    num += i\n",
    "    for i, file in enumerate(os.listdir(train_dir + 'audio/' + word + '/')):\n",
    "        if(i < end):\n",
    "            validation_list.append(word + '/' + file)\n",
    "        elif(end <= i < end2):\n",
    "            test_list.append(word + '/' + file)"
   ]
  },
  {
   "cell_type": "code",
   "execution_count": 66,
   "metadata": {},
   "outputs": [],
   "source": [
    "for i in training_list:\n",
    "    for j in test_list:\n",
    "        if(i == j):\n",
    "            print('i = ', i)\n",
    "            print('j = ', j)"
   ]
  },
  {
   "cell_type": "code",
   "execution_count": 28,
   "metadata": {},
   "outputs": [
    {
     "data": {
      "text/plain": [
       "(26533, 31841, 106195)"
      ]
     },
     "execution_count": 28,
     "metadata": {},
     "output_type": "execute_result"
    }
   ],
   "source": [
    "len(validation_list) , len(test_list), num"
   ]
  },
  {
   "cell_type": "code",
   "execution_count": 29,
   "metadata": {},
   "outputs": [],
   "source": [
    "with open('validation_list.txt', 'w') as f:\n",
    "    for item in validation_list:\n",
    "        f.write(\"%s\\n\" % item)"
   ]
  },
  {
   "cell_type": "code",
   "execution_count": 31,
   "metadata": {},
   "outputs": [],
   "source": [
    "with open('test_list.txt', 'w') as f:\n",
    "    for item in test_list:\n",
    "        f.write(\"%s\\n\" % item)"
   ]
  },
  {
   "cell_type": "code",
   "execution_count": 82,
   "metadata": {},
   "outputs": [
    {
     "name": "stdout",
     "output_type": "stream",
     "text": [
      "command(2).wav\n",
      ".DS_Store\n",
      "command.wav\n",
      "command(1).wav\n"
     ]
    }
   ],
   "source": [
    "# #add silence files to validation_list\n",
    "# for i, file in enumerate(os.listdir(train_dir + 'silence/')):\n",
    "#     if i%10==0:\n",
    "#         validation_list.append('silence/'+file)\n",
    "\n",
    "training_list = []\n",
    "all_files_list = []\n",
    "class_counts = {}\n",
    "\n",
    "# validation list를 통해서 trainig test를 만든다. \n",
    "for folder in folders:\n",
    "    try:\n",
    "        files = os.listdir(train_dir + folder)\n",
    "        for i, f in enumerate(files):\n",
    "            all_files_list.append(folder + '/' + f)\n",
    "            path = folder + '/' + f\n",
    "            if path not in validation_list:\n",
    "                if path not in test_list:\n",
    "                    training_list.append(folder + '/' + f)        \n",
    "            class_counts[folder] = i\n",
    "    except NotADirectoryError:\n",
    "        print(folder)\n",
    "    except FileNotFoundError:\n",
    "        print(folder)\n",
    "\n",
    "#remove filenames from validation_list that don't exist anymore (due to eda)\n",
    "validation_list = list(set(validation_list).intersection(all_files_list))"
   ]
  },
  {
   "cell_type": "code",
   "execution_count": 83,
   "metadata": {},
   "outputs": [],
   "source": [
    "assert len(validation_list) + len(training_list)+ len(test_list) == len(all_files_list), 'error'"
   ]
  },
  {
   "cell_type": "code",
   "execution_count": 84,
   "metadata": {},
   "outputs": [
    {
     "name": "stdout",
     "output_type": "stream",
     "text": [
      "right/a05a90c1_nohash_4.wav size training set:  47960 size validation set:  26533\n"
     ]
    }
   ],
   "source": [
    "print(training_list[345], 'size training set: ',len(training_list), 'size validation set: ', len(validation_list))"
   ]
  },
  {
   "cell_type": "code",
   "execution_count": 41,
   "metadata": {},
   "outputs": [
    {
     "name": "stdout",
     "output_type": "stream",
     "text": [
      "36\n"
     ]
    }
   ],
   "source": [
    "print(len(class_counts))\n",
    "# 각 class 안에 몇 개의 데이터가 있는지 확인"
   ]
  },
  {
   "cell_type": "markdown",
   "metadata": {},
   "source": [
    "plot a wav file"
   ]
  },
  {
   "cell_type": "code",
   "execution_count": 40,
   "metadata": {},
   "outputs": [
    {
     "name": "stdout",
     "output_type": "stream",
     "text": [
      "min:  -0.56863403 \n",
      "max:  0.21139526 \n",
      "mean:  0.00011529732 \n",
      "median:  6.1035156e-05 \n",
      "variance:  0.002271343 \n",
      "length:  16000\n"
     ]
    },
    {
     "data": {
      "text/plain": [
       "[<matplotlib.lines.Line2D at 0x1c1524d320>]"
      ]
     },
     "execution_count": 40,
     "metadata": {},
     "output_type": "execute_result"
    },
    {
     "data": {
      "image/png": "[encoded data removed]",
      "text/plain": [
       "<Figure size 432x288 with 1 Axes>"
      ]
     },
     "metadata": {},
     "output_type": "display_data"
    }
   ],
   "source": [
    "import matplotlib.pyplot as plt\n",
    "# 기본적인 데이터에 대한 정리 \n",
    "x, r = librosa.load(train_dir +'/audio/'+ training_list[345], sr = 16000)\n",
    "print('min: ',np.min(x), \n",
    "      '\\nmax: ', np.max(x), \n",
    "      '\\nmean: ', np.mean(x),\n",
    "      '\\nmedian: ', np.median(x),\n",
    "      '\\nvariance: ', np.var(x),\n",
    "      '\\nlength: ', len(x))\n",
    "plt.plot(x)"
   ]
  },
  {
   "cell_type": "markdown",
   "metadata": {},
   "source": [
    "### turn all wav files into spectrograms "
   ]
  },
  {
   "cell_type": "code",
   "execution_count": 11,
   "metadata": {},
   "outputs": [],
   "source": [
    "file = '0ab3b47d_nohash_0.wav'\n",
    "sig, rate = librosa.load(file, sr = 16000)"
   ]
  },
  {
   "cell_type": "code",
   "execution_count": 13,
   "metadata": {},
   "outputs": [
    {
     "data": {
      "text/plain": [
       "15702"
      ]
     },
     "execution_count": 13,
     "metadata": {},
     "output_type": "execute_result"
    }
   ],
   "source": [
    "len(sig)"
   ]
  },
  {
   "cell_type": "code",
   "execution_count": 14,
   "metadata": {},
   "outputs": [],
   "source": [
    "sig = np.pad(sig, (0,16000-len(sig)), 'linear_ramp')"
   ]
  },
  {
   "cell_type": "code",
   "execution_count": 15,
   "metadata": {},
   "outputs": [
    {
     "data": {
      "text/plain": [
       "16000"
      ]
     },
     "execution_count": 15,
     "metadata": {},
     "output_type": "execute_result"
    }
   ],
   "source": [
    "len(sig)"
   ]
  },
  {
   "cell_type": "code",
   "execution_count": 17,
   "metadata": {},
   "outputs": [],
   "source": [
    "sig = librosa.effects.pitch_shift(sig, rate, 4)"
   ]
  },
  {
   "cell_type": "code",
   "execution_count": 20,
   "metadata": {},
   "outputs": [
    {
     "data": {
      "text/plain": [
       "16000"
      ]
     },
     "execution_count": 20,
     "metadata": {},
     "output_type": "execute_result"
    }
   ],
   "source": [
    "len(sig)"
   ]
  },
  {
   "cell_type": "code",
   "execution_count": 42,
   "metadata": {},
   "outputs": [],
   "source": [
    "train_dir = './data/train/audio/'\n",
    "def make_spec(file, file_dir = train_dir, flip = False, ps = False, st = 4):\n",
    "    sig, rate = librosa.load(file_dir + file, sr = 16000)\n",
    "    if len(sig) < 16000: # 1초 미만의 오디오를 0으로 pad 함수를 이용하여 변환\n",
    "        sig = np.pad(sig, (0,16000-len(sig)), 'linear_ramp')\n",
    "    if ps:\n",
    "        # 소리의 원래 피치를 올리거나 내리며 4단으로 변경\n",
    "        sig = librosa.effects.pitch_shift(sig, rate, st)\n",
    "        \n",
    "    # 진폭 분광 프로그램을 dB 단위 분광 프로그램으로 변환\n",
    "    D = librosa.amplitude_to_db(librosa.stft(sig[:16000], n_fft = 512, \n",
    "                                             hop_length = 128, \n",
    "                                             center = False), ref = np.max)\n",
    "    # mel-scaled spectrogram으로 변환\n",
    "    S = librosa.feature.melspectrogram(S=D, n_mels = 85).T\n",
    "    if flip:\n",
    "        # 배열을 위아래 방향을 전환\n",
    "        S = np.flipud(S)\n",
    "    return S.astype(np.float32)"
   ]
  },
  {
   "cell_type": "code",
   "execution_count": 69,
   "metadata": {},
   "outputs": [
    {
     "name": "stderr",
     "output_type": "stream",
     "text": [
      "/anaconda3/lib/python3.6/site-packages/librosa/core/spectrum.py:960: UserWarning: amplitude_to_db was called on complex input so phase information will be discarded. To suppress this warning, call amplitude_to_db(np.abs(S)) instead.\n",
      "  warnings.warn('amplitude_to_db was called on complex input so phase '\n"
     ]
    },
    {
     "data": {
      "text/plain": [
       "(122, 85)"
      ]
     },
     "execution_count": 69,
     "metadata": {},
     "output_type": "execute_result"
    }
   ],
   "source": [
    "make_spec('command.wav').shape"
   ]
  },
  {
   "cell_type": "code",
   "execution_count": 38,
   "metadata": {},
   "outputs": [
    {
     "name": "stderr",
     "output_type": "stream",
     "text": [
      "/anaconda3/lib/python3.6/site-packages/librosa/core/spectrum.py:960: UserWarning: amplitude_to_db was called on complex input so phase information will be discarded. To suppress this warning, call amplitude_to_db(np.abs(S)) instead.\n",
      "  warnings.warn('amplitude_to_db was called on complex input so phase '\n"
     ]
    },
    {
     "data": {
      "text/plain": [
       "<matplotlib.axes._subplots.AxesSubplot at 0x1c14a1d630>"
      ]
     },
     "execution_count": 38,
     "metadata": {},
     "output_type": "execute_result"
    },
    {
     "data": {
      "image/png": "[encoded data removed]",
      "text/plain": [
       "<Figure size 432x288 with 1 Axes>"
      ]
     },
     "metadata": {},
     "output_type": "display_data"
    }
   ],
   "source": [
    "librosa.display.specshow(make_spec('command.wav'), \n",
    "                         x_axis='mel', \n",
    "                         fmax=8000, \n",
    "                         y_axis='time', \n",
    "                         sr = 16000,\n",
    "                         hop_length = 128)"
   ]
  },
  {
   "cell_type": "code",
   "execution_count": 18,
   "metadata": {},
   "outputs": [
    {
     "name": "stderr",
     "output_type": "stream",
     "text": [
      "/anaconda3/lib/python3.6/site-packages/librosa/core/spectrum.py:960: UserWarning: amplitude_to_db was called on complex input so phase information will be discarded. To suppress this warning, call amplitude_to_db(np.abs(S)) instead.\n",
      "  warnings.warn('amplitude_to_db was called on complex input so phase '\n"
     ]
    },
    {
     "data": {
      "text/plain": [
       "(122, 85)"
      ]
     },
     "execution_count": 18,
     "metadata": {},
     "output_type": "execute_result"
    }
   ],
   "source": [
    "make_spec('yes/bfdb9801_nohash_0.wav').shape"
   ]
  },
  {
   "cell_type": "code",
   "execution_count": 111,
   "metadata": {},
   "outputs": [
    {
     "name": "stderr",
     "output_type": "stream",
     "text": [
      "/anaconda3/lib/python3.6/site-packages/librosa/core/spectrum.py:960: UserWarning: amplitude_to_db was called on complex input so phase information will be discarded. To suppress this warning, call amplitude_to_db(np.abs(S)) instead.\n",
      "  warnings.warn('amplitude_to_db was called on complex input so phase '\n"
     ]
    }
   ],
   "source": [
    "import numpy as np\n",
    "X_train = make_spec('command(1).wav')"
   ]
  },
  {
   "cell_type": "code",
   "execution_count": 112,
   "metadata": {},
   "outputs": [],
   "source": [
    "np.save('data/command.npy', np.expand_dims(X_train, -1)+1.3)"
   ]
  },
  {
   "cell_type": "code",
   "execution_count": 101,
   "metadata": {},
   "outputs": [
    {
     "data": {
      "text/plain": [
       "13"
      ]
     },
     "execution_count": 101,
     "metadata": {},
     "output_type": "execute_result"
    }
   ],
   "source": [
    "len(classes)"
   ]
  },
  {
   "cell_type": "code",
   "execution_count": 44,
   "metadata": {},
   "outputs": [],
   "source": [
    "def create_sets(file_list = training_list):\n",
    "    X_array = np.zeros([len(file_list),122,85])\n",
    "    Y_array = np.zeros([len(file_list)])    \n",
    "    for ind, file in enumerate(file_list):\n",
    "        if ind%2000 == 0:\n",
    "            print(ind, file)\n",
    "        try:\n",
    "            X_array[ind] = make_spec(file)\n",
    "        except ValueError:\n",
    "            print(ind, file, ValueError)\n",
    "        Y_array[ind] = all_classes.index(file.rsplit('/')[0])\n",
    "        \n",
    "    return X_array, Y_array"
   ]
  },
  {
   "cell_type": "code",
   "execution_count": 85,
   "metadata": {},
   "outputs": [
    {
     "name": "stdout",
     "output_type": "stream",
     "text": [
      "0 right/df5457dc_nohash_0.wav\n"
     ]
    },
    {
     "name": "stderr",
     "output_type": "stream",
     "text": [
      "/anaconda3/lib/python3.6/site-packages/librosa/core/spectrum.py:960: UserWarning: amplitude_to_db was called on complex input so phase information will be discarded. To suppress this warning, call amplitude_to_db(np.abs(S)) instead.\n",
      "  warnings.warn('amplitude_to_db was called on complex input so phase '\n"
     ]
    },
    {
     "name": "stdout",
     "output_type": "stream",
     "text": [
      "2000 eight/9e92ef0c_nohash_0.wav\n",
      "4000 cat/2cec1d47_nohash_0.wav\n",
      "6000 learn/ccca5655_nohash_2.wav\n",
      "8000 happy/87728a88_nohash_0.wav\n",
      "10000 go/4fd4d073_nohash_1.wav\n",
      "12000 no/627c0bec_nohash_1.wav\n",
      "14000 wow/67c7fecb_nohash_0.wav\n",
      "16000 nine/9190045a_nohash_0.wav\n",
      "18000 left/f035e2ea_nohash_3.wav\n",
      "20000 three/e269bac0_nohash_0.wav\n",
      "22000 sheila/a4ca3afe_nohash_0.wav\n",
      "24000 one/4cee0c60_nohash_0.wav\n",
      "26000 zero/d9b8fab2_nohash_2.wav\n",
      "28000 seven/fac7deca_nohash_2.wav\n",
      "30000 up/f8ba7c0e_nohash_3.wav\n",
      "32000 marvin/bfbd0e6b_nohash_2.wav\n",
      "34000 house/c87a578d_nohash_0.wav\n",
      "36000 down/fb727898_nohash_1.wav\n",
      "38000 six/131e738d_nohash_0.wav\n",
      "40000 yes/52162b51_nohash_3.wav\n",
      "42000 five/8625475c_nohash_0.wav\n",
      "44000 forward/de3fe344_nohash_2.wav\n",
      "46000 off/6f9088d7_nohash_0.wav\n"
     ]
    }
   ],
   "source": [
    "X_train, Y_train_all = create_sets() "
   ]
  },
  {
   "cell_type": "code",
   "execution_count": 116,
   "metadata": {},
   "outputs": [],
   "source": [
    "new_X_train = []\n",
    "for i in classes:\n",
    "    for j in training_list:\n",
    "        if i == j.rsplit('/')[0]:\n",
    "            new_X_train.append(j)"
   ]
  },
  {
   "cell_type": "code",
   "execution_count": 117,
   "metadata": {},
   "outputs": [
    {
     "data": {
      "text/plain": [
       "19802"
      ]
     },
     "execution_count": 117,
     "metadata": {},
     "output_type": "execute_result"
    }
   ],
   "source": [
    "len(set(new_X_train))"
   ]
  },
  {
   "cell_type": "code",
   "execution_count": 123,
   "metadata": {},
   "outputs": [
    {
     "name": "stdout",
     "output_type": "stream",
     "text": [
      "0 yes/1_min.wav\n"
     ]
    },
    {
     "name": "stderr",
     "output_type": "stream",
     "text": [
      "/anaconda3/lib/python3.6/site-packages/librosa/core/spectrum.py:960: UserWarning: amplitude_to_db was called on complex input so phase information will be discarded. To suppress this warning, call amplitude_to_db(np.abs(S)) instead.\n",
      "  warnings.warn('amplitude_to_db was called on complex input so phase '\n"
     ]
    },
    {
     "name": "stdout",
     "output_type": "stream",
     "text": [
      "2000 no/21832144_nohash_3.wav\n",
      "4000 up/e53139ad_nohash_3.wav\n",
      "6000 down/37dca74f_nohash_1.wav\n",
      "8000 left/a7216980_nohash_3.wav\n",
      "10000 right/d070ea86_nohash_4.wav\n",
      "12000 on/cb2929ce_nohash_0.wav\n",
      "14000 stop/d3a18257_nohash_0.wav\n",
      "16000 go/b1f8326d_nohash_1.wav\n",
      "18000 backward/ec989d6d_nohash_0.wav\n"
     ]
    }
   ],
   "source": [
    "Xtrain, ytrain = create_sets(file_list=new_X_train)"
   ]
  },
  {
   "cell_type": "code",
   "execution_count": 118,
   "metadata": {},
   "outputs": [],
   "source": [
    "new_X_test = []\n",
    "for i in classes:\n",
    "    for j in test_list:\n",
    "        if i == j.rsplit('/')[0]:\n",
    "            new_X_test.append(j)"
   ]
  },
  {
   "cell_type": "code",
   "execution_count": 119,
   "metadata": {},
   "outputs": [
    {
     "data": {
      "text/plain": [
       "13154"
      ]
     },
     "execution_count": 119,
     "metadata": {},
     "output_type": "execute_result"
    }
   ],
   "source": [
    "len(new_X_test)"
   ]
  },
  {
   "cell_type": "code",
   "execution_count": 129,
   "metadata": {},
   "outputs": [
    {
     "name": "stdout",
     "output_type": "stream",
     "text": [
      "0 yes/578d3efb_nohash_3.wav\n"
     ]
    },
    {
     "name": "stderr",
     "output_type": "stream",
     "text": [
      "/anaconda3/lib/python3.6/site-packages/librosa/core/spectrum.py:960: UserWarning: amplitude_to_db was called on complex input so phase information will be discarded. To suppress this warning, call amplitude_to_db(np.abs(S)) instead.\n",
      "  warnings.warn('amplitude_to_db was called on complex input so phase '\n"
     ]
    },
    {
     "name": "stdout",
     "output_type": "stream",
     "text": [
      "2000 no/bbc30633_nohash_2.wav\n",
      "4000 down/1d919a90_nohash_1.wav\n",
      "6000 right/ed032775_nohash_0.wav\n",
      "8000 on/863880b7_nohash_1.wav\n",
      "10000 stop/87070229_nohash_0.wav\n",
      "12000 backward/94d370bf_nohash_0.wav\n"
     ]
    }
   ],
   "source": [
    "Xtest, ytest = create_sets(file_list=new_X_test)"
   ]
  },
  {
   "cell_type": "code",
   "execution_count": 121,
   "metadata": {},
   "outputs": [],
   "source": [
    "new_X_validation = []\n",
    "for i in classes:\n",
    "    for j in validation_list:\n",
    "        if i == j.rsplit('/')[0]:\n",
    "            new_X_validation.append(j)"
   ]
  },
  {
   "cell_type": "code",
   "execution_count": 122,
   "metadata": {},
   "outputs": [
    {
     "data": {
      "text/plain": [
       "10963"
      ]
     },
     "execution_count": 122,
     "metadata": {},
     "output_type": "execute_result"
    }
   ],
   "source": [
    "len(new_X_validation)"
   ]
  },
  {
   "cell_type": "code",
   "execution_count": 130,
   "metadata": {},
   "outputs": [
    {
     "name": "stdout",
     "output_type": "stream",
     "text": [
      "0 yes/1e9e6bdd_nohash_1.wav\n"
     ]
    },
    {
     "name": "stderr",
     "output_type": "stream",
     "text": [
      "/anaconda3/lib/python3.6/site-packages/librosa/core/spectrum.py:960: UserWarning: amplitude_to_db was called on complex input so phase information will be discarded. To suppress this warning, call amplitude_to_db(np.abs(S)) instead.\n",
      "  warnings.warn('amplitude_to_db was called on complex input so phase '\n"
     ]
    },
    {
     "name": "stdout",
     "output_type": "stream",
     "text": [
      "2000 up/b0f5b16d_nohash_3.wav\n",
      "4000 left/7257420c_nohash_0.wav\n",
      "6000 on/8b775397_nohash_0.wav\n",
      "8000 stop/61ab8fbc_nohash_3.wav\n",
      "10000 backward/508e30ee_nohash_0.wav\n"
     ]
    }
   ],
   "source": [
    "Xval, yval = create_sets(file_list=new_X_validation)"
   ]
  },
  {
   "cell_type": "code",
   "execution_count": 131,
   "metadata": {},
   "outputs": [],
   "source": [
    "np.save('data/Xtrain.npy', np.expand_dims(Xtest, -1)+1.3)\n",
    "np.save('data/ytrain.npy', ytest.astype(np.int))\n",
    "np.save('data/Xtest.npy', np.expand_dims(Xtest, -1)+1.3)\n",
    "np.save('data/ytest.npy', ytest.astype(np.int))\n",
    "np.save('data/Xval.npy', np.expand_dims(Xval, -1)+1.3)\n",
    "np.save('data/yval.npy', yval.astype(np.int))"
   ]
  },
  {
   "cell_type": "code",
   "execution_count": 86,
   "metadata": {},
   "outputs": [],
   "source": [
    "# all unknown are index 14\n",
    "Y_train = np.where(Y_train_all < 14, Y_train_all, 14)"
   ]
  },
  {
   "cell_type": "code",
   "execution_count": 87,
   "metadata": {},
   "outputs": [
    {
     "name": "stdout",
     "output_type": "stream",
     "text": [
      "True False\n"
     ]
    }
   ],
   "source": [
    "print(len(Y_train) == len(Y_train_all), 15 in Y_train)"
   ]
  },
  {
   "cell_type": "code",
   "execution_count": 51,
   "metadata": {},
   "outputs": [
    {
     "data": {
      "text/plain": [
       "<matplotlib.axes._subplots.AxesSubplot at 0x1c154c0208>"
      ]
     },
     "execution_count": 51,
     "metadata": {},
     "output_type": "execute_result"
    },
    {
     "data": {
      "image/png": "[encoded data removed]",
      "text/plain": [
       "<Figure size 432x288 with 1 Axes>"
      ]
     },
     "metadata": {},
     "output_type": "display_data"
    }
   ],
   "source": [
    "librosa.display.specshow(X_train[6500], \n",
    "                         x_axis='mel', \n",
    "                         fmax=8000, \n",
    "                         y_axis='time', \n",
    "                         sr = 16000,\n",
    "                         hop_length = 128)"
   ]
  },
  {
   "cell_type": "code",
   "execution_count": 52,
   "metadata": {},
   "outputs": [
    {
     "name": "stdout",
     "output_type": "stream",
     "text": [
      "min:  -2.0306179523468018 \n",
      "max:  9.682740653715882e-08 \n",
      "mean:  -1.3648802854978437 \n",
      "median:  -1.4481196403503418 \n",
      "variance:  0.20417615399349467\n"
     ]
    }
   ],
   "source": [
    "print('min: ',np.min(X_train), \n",
    "      '\\nmax: ', np.max(X_train), \n",
    "      '\\nmean: ', np.mean(X_train),\n",
    "      '\\nmedian: ', np.median(X_train),\n",
    "      '\\nvariance: ', np.var(X_train))"
   ]
  },
  {
   "cell_type": "code",
   "execution_count": 53,
   "metadata": {},
   "outputs": [
    {
     "data": {
      "text/plain": [
       "(array([ 1448618.,   162754.,  3909671.,  8783462., 91084448., 23000368.,\n",
       "        15726461., 15376857., 14010113., 13855192., 13878689., 13963570.,\n",
       "        14047200., 14066717., 14055032., 13954423., 13808502., 13581339.,\n",
       "        13296768., 12952956., 12562183., 12108756., 11611203., 11072139.,\n",
       "        10517903.,  9953102.,  9378158.,  8789339.,  8207469.,  7639348.,\n",
       "         7090528.,  6587323.,  6126152.,  5702879.,  5321549.,  4978465.,\n",
       "         4659198.,  4348474.,  4043547.,  3722299.,  3381537.,  3029513.,\n",
       "         2644029.,  2224802.,  1796707.,  1394138.,  1053500.,   715808.,\n",
       "          445914.,   207988.]),\n",
       " array([-2.03061795e+00, -1.99000559e+00, -1.94939323e+00, -1.90878087e+00,\n",
       "        -1.86816851e+00, -1.82755615e+00, -1.78694379e+00, -1.74633143e+00,\n",
       "        -1.70571906e+00, -1.66510670e+00, -1.62449434e+00, -1.58388198e+00,\n",
       "        -1.54326962e+00, -1.50265726e+00, -1.46204490e+00, -1.42143254e+00,\n",
       "        -1.38082018e+00, -1.34020782e+00, -1.29959545e+00, -1.25898309e+00,\n",
       "        -1.21837073e+00, -1.17775837e+00, -1.13714601e+00, -1.09653365e+00,\n",
       "        -1.05592129e+00, -1.01530893e+00, -9.74696567e-01, -9.34084206e-01,\n",
       "        -8.93471845e-01, -8.52859484e-01, -8.12247123e-01, -7.71634762e-01,\n",
       "        -7.31022401e-01, -6.90410040e-01, -6.49797679e-01, -6.09185318e-01,\n",
       "        -5.68572957e-01, -5.27960596e-01, -4.87348235e-01, -4.46735874e-01,\n",
       "        -4.06123513e-01, -3.65511152e-01, -3.24898791e-01, -2.84286430e-01,\n",
       "        -2.43674069e-01, -2.03061708e-01, -1.62449347e-01, -1.21836986e-01,\n",
       "        -8.12246251e-02, -4.06122642e-02,  9.68274065e-08]),\n",
       " <a list of 50 Patch objects>)"
      ]
     },
     "execution_count": 53,
     "metadata": {},
     "output_type": "execute_result"
    },
    {
     "data": {
      "image/png": "[encoded data removed]",
      "text/plain": [
       "<Figure size 432x288 with 1 Axes>"
      ]
     },
     "metadata": {},
     "output_type": "display_data"
    }
   ],
   "source": [
    "plt.hist(X_train.flatten(), bins = 50)"
   ]
  },
  {
   "cell_type": "markdown",
   "metadata": {},
   "source": [
    "save the training sets, add channel dimension for keras, normalize around zero."
   ]
  },
  {
   "cell_type": "code",
   "execution_count": 96,
   "metadata": {},
   "outputs": [],
   "source": [
    "np.save('data/X.npy',X_train.astype(np.float32))\n",
    "np.save('data/X_predict.npy',X_test.astype(np.float32))\n",
    "np.save('data/X_validation.npy',X_val.astype(np.float32))"
   ]
  },
  {
   "cell_type": "code",
   "execution_count": 89,
   "metadata": {},
   "outputs": [],
   "source": [
    "np.save('data/X_train.npy', np.expand_dims(X_train, -1)+1.3)\n",
    "np.save('data/Y_train.npy', Y_train.astype(np.int))\n",
    "np.save('data/Y_train_all.npy', Y_train_all.astype(np.int))"
   ]
  },
  {
   "cell_type": "code",
   "execution_count": 90,
   "metadata": {},
   "outputs": [
    {
     "name": "stdout",
     "output_type": "stream",
     "text": [
      "0 no/a6d586b7_nohash_1.wav\n"
     ]
    },
    {
     "name": "stderr",
     "output_type": "stream",
     "text": [
      "/anaconda3/lib/python3.6/site-packages/librosa/core/spectrum.py:960: UserWarning: amplitude_to_db was called on complex input so phase information will be discarded. To suppress this warning, call amplitude_to_db(np.abs(S)) instead.\n",
      "  warnings.warn('amplitude_to_db was called on complex input so phase '\n"
     ]
    },
    {
     "name": "stdout",
     "output_type": "stream",
     "text": [
      "2000 follow/f30285c8_nohash_0.wav\n",
      "4000 left/439c84f4_nohash_4.wav\n",
      "6000 right/b69002d4_nohash_1.wav\n",
      "8000 marvin/745a8e32_nohash_1.wav\n",
      "10000 marvin/c7aa72e6_nohash_1.wav\n",
      "12000 wow/3e3b65eb_nohash_0.wav\n",
      "14000 four/3d794813_nohash_2.wav\n",
      "16000 sheila/ccfd721c_nohash_0.wav\n",
      "18000 on/1e9e6bdd_nohash_1.wav\n",
      "20000 tree/5165cf0a_nohash_0.wav\n",
      "22000 go/f822b9bf_nohash_3.wav\n",
      "24000 six/e41a903b_nohash_1.wav\n",
      "26000 dog/4874a7e9_nohash_1.wav\n"
     ]
    }
   ],
   "source": [
    "X_val, Y_val_all = create_sets(file_list = validation_list)"
   ]
  },
  {
   "cell_type": "code",
   "execution_count": 91,
   "metadata": {},
   "outputs": [],
   "source": [
    "Y_val = np.where(Y_val_all < 14, Y_val_all, 14)"
   ]
  },
  {
   "cell_type": "code",
   "execution_count": 92,
   "metadata": {},
   "outputs": [],
   "source": [
    "np.save('data/X_val.npy', np.expand_dims(X_val, -1)+1.3)\n",
    "np.save('data/Y_val.npy', Y_val.astype(np.int))\n",
    "np.save('data/Y_val_all.npy', Y_val_all.astype(np.int))"
   ]
  },
  {
   "cell_type": "code",
   "execution_count": 93,
   "metadata": {},
   "outputs": [
    {
     "name": "stdout",
     "output_type": "stream",
     "text": [
      "0 right/d8c314c0_nohash_0.wav\n"
     ]
    },
    {
     "name": "stderr",
     "output_type": "stream",
     "text": [
      "/anaconda3/lib/python3.6/site-packages/librosa/core/spectrum.py:960: UserWarning: amplitude_to_db was called on complex input so phase information will be discarded. To suppress this warning, call amplitude_to_db(np.abs(S)) instead.\n",
      "  warnings.warn('amplitude_to_db was called on complex input so phase '\n"
     ]
    },
    {
     "name": "stdout",
     "output_type": "stream",
     "text": [
      "2000 eight/4b25f620_nohash_0.wav\n",
      "4000 learn/7fb8d703_nohash_3.wav\n",
      "6000 go/1bb574f9_nohash_1.wav\n",
      "8000 no/4fd1443e_nohash_2.wav\n",
      "10000 nine/35d1b6ee_nohash_2.wav\n",
      "12000 left/dff327c5_nohash_0.wav\n",
      "14000 three/0a2b400e_nohash_4.wav\n",
      "16000 one/3e3fa7fd_nohash_0.wav\n",
      "18000 zero/a6f2fd71_nohash_4.wav\n",
      "20000 up/14775481_nohash_0.wav\n",
      "22000 two/a1c63f25_nohash_0.wav\n",
      "24000 down/1e02ffc5_nohash_1.wav\n",
      "26000 yes/363c6bad_nohash_1.wav\n",
      "28000 five/90e72357_nohash_2.wav\n",
      "30000 off/ed032775_nohash_3.wav\n"
     ]
    }
   ],
   "source": [
    "X_test, Y_test_all = create_sets(file_list = test_list)\n",
    "Y_test = np.where(Y_test_all < 14, Y_test_all, 14)"
   ]
  },
  {
   "cell_type": "code",
   "execution_count": 94,
   "metadata": {},
   "outputs": [
    {
     "data": {
      "text/plain": [
       "(106334, 47960, 26533, 31841)"
      ]
     },
     "execution_count": 94,
     "metadata": {},
     "output_type": "execute_result"
    }
   ],
   "source": [
    "len(all_files_list), len(training_list), len(validation_list), len(test_list)"
   ]
  },
  {
   "cell_type": "code",
   "execution_count": 95,
   "metadata": {},
   "outputs": [],
   "source": [
    "np.save('data/X_test.npy', np.expand_dims(X_test, -1)+1.3)\n",
    "np.save('data/Y_test.npy', Y_test.astype(np.int))\n",
    "np.save('data/Y_test_all.npy', Y_test_all.astype(np.int))"
   ]
  },
  {
   "cell_type": "code",
   "execution_count": null,
   "metadata": {},
   "outputs": [],
   "source": []
  }
 ],
 "metadata": {
  "kernelspec": {
   "display_name": "Python 3",
   "language": "python",
   "name": "python3"
  },
  "language_info": {
   "codemirror_mode": {
    "name": "ipython",
    "version": 3
   },
   "file_extension": ".py",
   "mimetype": "text/x-python",
   "name": "python",
   "nbconvert_exporter": "python",
   "pygments_lexer": "ipython3",
   "version": "3.6.5"
  }
 },
 "nbformat": 4,
 "nbformat_minor": 2
}
